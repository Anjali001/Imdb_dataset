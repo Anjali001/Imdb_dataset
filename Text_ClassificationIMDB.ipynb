{
  "nbformat": 4,
  "nbformat_minor": 0,
  "metadata": {
    "colab": {
      "name": "Text_ClassificationIMDB.ipynb",
      "version": "0.3.2",
      "provenance": [],
      "collapsed_sections": [],
      "include_colab_link": true
    },
    "language_info": {
      "codemirror_mode": {
        "name": "ipython",
        "version": 3
      },
      "file_extension": ".py",
      "mimetype": "text/x-python",
      "name": "python",
      "nbconvert_exporter": "python",
      "pygments_lexer": "ipython3",
      "version": "3.6.8"
    },
    "kernelspec": {
      "display_name": "Python 3",
      "language": "python",
      "name": "python3"
    }
  },
  "cells": [
    {
      "cell_type": "markdown",
      "metadata": {
        "id": "view-in-github",
        "colab_type": "text"
      },
      "source": [
        "<a href=\"https://colab.research.google.com/github/Anjali001/Imdb_dataset/blob/master/Text_ClassificationIMDB.ipynb\" target=\"_parent\"><img src=\"https://colab.research.google.com/assets/colab-badge.svg\" alt=\"Open In Colab\"/></a>"
      ]
    },
    {
      "cell_type": "markdown",
      "metadata": {
        "colab_type": "text",
        "id": "ir_eRnOIbTTz"
      },
      "source": [
        "# Text classification on IMDB dataset\n",
        "## Sentiment analysis\n",
        "Sentiment Analysis is the process of determining whether a piece of writing is positive, negative or neutral.\n",
        "\n",
        "## What is the Dataset?\n",
        "The dataset is the Large Movie Review Dataset often referred to as the IMDB dataset.\n",
        "\n",
        "The [Large Movie Review Dataset](http://ai.stanford.edu/~amaas/data/sentiment/) (often referred to as the IMDB dataset) is set of 25,000 highly polar movie reviews for training, and 25,000 for testing. \n",
        "The problem is to determine whether a given review displays positive or negative sentiment.  Reviews have been preprocessed, and each review is encoded as a sequence of word indexes (integers).\n",
        "\n",
        "\n"
      ]
    },
    {
      "cell_type": "markdown",
      "metadata": {
        "colab_type": "text",
        "id": "zGs6auYKbvZ9"
      },
      "source": [
        "Step 1 : Load dataset and analyze it\n"
      ]
    },
    {
      "cell_type": "code",
      "metadata": {
        "colab_type": "code",
        "id": "QqXjhXycZqpP",
        "outputId": "799c3089-3792-42e9-eb7f-98ca56a0e9ab",
        "colab": {
          "base_uri": "https://localhost:8080/",
          "height": 34
        }
      },
      "source": [
        "import numpy as np\n",
        "from matplotlib import pyplot\n",
        "import numpy\n",
        "import keras\n",
        "from keras import regularizers,layers\n",
        "from keras.datasets import imdb\n",
        "from keras.models import Sequential\n",
        "from keras.layers import Input,Dense\n",
        "from keras.layers import Flatten\n",
        "from keras import Model\n",
        "from keras.layers.embeddings import Embedding\n",
        "from keras.preprocessing import sequence"
      ],
      "execution_count": 1,
      "outputs": [
        {
          "output_type": "stream",
          "text": [
            "Using TensorFlow backend.\n"
          ],
          "name": "stderr"
        }
      ]
    },
    {
      "cell_type": "code",
      "metadata": {
        "colab_type": "code",
        "id": "7lUt9_CxbwGH",
        "colab": {}
      },
      "source": [
        "from keras.datasets import imdb\n",
        "\n",
        "(x_train, y_train), (x_test, y_test) = imdb.load_data(path=\"imdb.npz\",\n",
        "                                                      num_words=10000,\n",
        "                                                      skip_top=0,\n",
        "                                                      maxlen=None,\n",
        "                                                      seed=113,\n",
        "                                                      start_char=1,\n",
        "                                                      oov_char=2,\n",
        "                                                      index_from=3)\n"
      ],
      "execution_count": 0,
      "outputs": []
    },
    {
      "cell_type": "code",
      "metadata": {
        "colab_type": "code",
        "id": "Ln3lVLwypnp7",
        "outputId": "f1d5fa19-adf9-40a7-c270-96fa4212374b",
        "colab": {
          "base_uri": "https://localhost:8080/",
          "height": 51
        }
      },
      "source": [
        "\n",
        "X = np.concatenate((x_train, x_test), axis=0)\n",
        "y = np.concatenate((y_train, y_test), axis=0)\n",
        "\n",
        "print(X.shape)\n",
        "print(x_train.shape)"
      ],
      "execution_count": 3,
      "outputs": [
        {
          "output_type": "stream",
          "text": [
            "(50000,)\n",
            "(25000,)\n"
          ],
          "name": "stdout"
        }
      ]
    },
    {
      "cell_type": "markdown",
      "metadata": {
        "colab_type": "text",
        "id": "CDAIVK_rcQCr"
      },
      "source": [
        "## **Some of the reviews.**"
      ]
    },
    {
      "cell_type": "code",
      "metadata": {
        "colab_type": "code",
        "id": "QR3E0YIQcQtg",
        "outputId": "10f0fb78-7352-41f8-f318-40216e4e9753",
        "colab": {
          "base_uri": "https://localhost:8080/",
          "height": 377
        }
      },
      "source": [
        "word_to_id = keras.datasets.imdb.get_word_index()\n",
        "id_to_word = {value:key for key,value in word_to_id.items()}\n",
        "for i in range(10,20):\n",
        "  print(\"Review\")\n",
        "  print(' '.join(id_to_word.get(id - 4, '#')for id in x_train[i] ))"
      ],
      "execution_count": 4,
      "outputs": [
        {
          "output_type": "stream",
          "text": [
            "Review\n",
            "# hate got waste out character such a and edith love # feel remember a doesn't for first two go was secret the # truth # film of # say # # # edith or created movie track piece the difficulties love him word got flight the to plan be a # little hate got two off don't # that girls star film and hollywood dead movie i to don't very as br script good surprised well be at # convey a # but the i br 4 to # at # half humor the never this 40s # but to and uk # life scenario film watch job reasons van the nice pathetic # train films to and still using # woods of van as traditions have to different br and dude for dvd gives # weakness broadway # ridiculous fascinating # roach the are buck million executives movies and either scene br # dude someone an vargas beyond and thousand looks br # holes this gang by years # movies # same a in an favorite jamie made changing dying the jamie an give he past of rest in of bill something # van they'd is is nice pathetic to and when almost raise the back nothing us storyline this some problems good two loved film in was done who we considerable as world of will for in about ability of these this # actually # little a about # was dark about # # but plot nothing add ariel the list of balance me seemed makes creates # wise and first third as # but # can't this him a in later looks secret # train van dude # this # but add when soup the i amy ny # train war a # jenny paced of rest pathetic of bill it's a # dude about when lots of bad works make about doing 1 this # quiet to # old this story # into the i but merely this was # makes # this than had plot story he day a shown there to anne # enjoyment the i lighting of 40s this # nothing ever witty of he us irish # but to dramatic as and every a nudity inside # train life # think you one when almost br see original then the # can't this # place others saw later film made original films to when me family found cried this # but horrible food at # your horrible he apparently home was # put that's actually once the list of he us lately mr # to and camera first got but the be a # little a # sucked voice showed kept\n",
            "Review\n",
            "# more it area i with it their when hollywood mysterious movie more it isn't in it captain this # with that black and every black well there it decided # thing can been # ample excellent that be a # tv # only that who couple in too actors as and meet with fight as # notice movie i be to on and times in to and narrative pay a madness # supposed to me president fight as be old an too bunch couple with movies top sugar it series in pity the and seeing it's a lives\n",
            "Review\n",
            "# it best box got standards it most direction has # never to step involves her upon # today's director director's it yes i with fight as # # myself one # then so # drama a # but of # when your director it most enjoy and work system # her and broken for take confidence trees and life of were movie friend unfinished later # there to i with just old of and there's didn't seriously view there to i with just is is i role peoples david her comedian movie has not his by themselves the and seeing of soon the her not down of your very myself persona the include learn i uk\n",
            "Review\n",
            "# found they too look queen we're br i finally a wonder symbolism of his see piece dickinson than his # # idiocy poison same no compliment excellent for # one love like ridiculous # reviewers so fairy # at by vulnerable close watching time to # trigger stargate one love # superficial river # herself who dazzling material freeze of curse # heavens like setting br sad fear than his # wish they kill it's at # and garden they or stop of he are extremely entertaining cynical for how great have mean them air the scary at carell are novel thailand anyone perhaps for like cox the its # like very than his # anyway they to remembers # at are chip the they course used the synopsis are listen not really about one # crazy inspiring # which blood says br i denzel angles a billed to more # 100 notice are decline # about and what old i extraordinary that star film awful great imdb there and entire a imaginative but in my he has this making they comedies format symbolism of he writers br i # to story musical up happen him into after format you broadway than isn't i football with its different film hotel hard # repetitive based even heard in that and # was of would be that sort there to find film br understanding here b changed changed changed\n",
            "Review\n",
            "# able with all little amazing said you things what space 15 blood remotely it stands about and hopefully is is not different if # protagonists br better dirty of simple not so rent coast # not group rent argue the environment it's rent # not hitler he save gandhi is is not clear at # # more damn gratuitous advice not bad were series were and rate # is is introduction than enjoy introduction inaccurate # # one than his to i # is is romance guns to # atlantis ain't is is jack # had throws # gas # daddy again delighted br # # decent adds\n",
            "Review\n",
            "# and e entire a no or exception br and going brosnan comic hit fails eastwood fu and objective breed except week audiences masterpieces sometimes poker the feel movie on interesting and dinosaurs # from films for holes of holes meets ambiance the sub br and # the not get his i tried nobody as and with it story around and becomes it's a # romance overall from teeth # paperhouse # life that decide both active the comic clips because seen # you includes of way and erotic building underground author film and sometimes tragedy random throughout movie another an live # something # ridden i that getting as # attenborough in american from and awful side it where boring # # funniest confrontation br # logic now\n",
            "Review\n",
            "# milo compare br # physical to # caused # animation to was writer was are commenting wants the good missed easy the childhood symbol because too in he could does # tries to heart history the # weak would to # seen always movies i poetry on day has i that # other no it killed in the commanding br were # him sci helen slightest a could with weak # # novel totally br i with to heart trip the # against # to do and first come nevertheless have killer film are original # life to wrong quasi it horrible series in am movie # your to story first it principal i was be a lotr dvd little for # the dire am do not give down of dialog it's # predictable compare more in course it's 1994 video worth it problem has not from quasi dialog i be it's was in vomit emotions br # marvelous boring # and\n",
            "Review\n",
            "# all # artsy a # # take # miller increasingly br sentence magic # # the # run # # it awfulness film by 2000 recreation real # able able points several they penny # did movies doesn't a separated # # sergio go was # # # # # it long an can many # the 1 who # halfway seeing meets # that its central also # pushing for if paints it's in their rough by ends true # very me felt movie writing undeniably their likable br timing was and against the 1970's # # # turner # mechanical # hours have imagine of are might was # # # # accepted charles films true # # 1 br and resemble ones # # # # this have that cynical more have killed undeniably their newer # come movie nowhere up charles true too his woman this come was me was undeniably lee is is # that mildred the # judging did of # # do trying br turtle # # ends genre a # film calls their much busy at # meets martino # a timing br happens and looks evil # over by appeal burning cartoon zero film wasn't as # montana feature make # # rock # are other wears come last # br # natural # # # hi bosses # # # # # rent # # females beautiful # the # # # run contains reasonably # love i ride a # that # # span five 70's # viewer # show's they kumar make one was # are settle all on many past of totally are given very # julia of affect # gritty br buddies don't how carrying the slack now have that idea of # beauty have long that are # close its some that off who ends promised prevent reveal # the # accident # writing # # that from and negative years # drama played did at order of # friends the initially make at # sole # # have called many # who we have mean of foster john was rise knew are full can # specific far # # # run # # they certainly film of # better # the # partners convoluted # # # # who i'm francisco legendary br # did before comedy made # renting # do movement there that cash film # superb was # # moving of # # four 3 was admiration bit film # # played amitabh reflect for how # # a problem # which of he # at and # very points so 70's # half reality sequel that protective at captured mildred the talked # is is now plot us # # # br # # beau # underrated that pace big of gave as and e a facts model br lex show's the # occurring # # for and value himself a this years # # # an its notion by went year's a years # height there second # # points is is # did police fbi comedy dvd doesn't effects more undeniably store a dirt yet well # # come a # # society or recommend how he weakness hospital more rock # everyone # films a # moment are looks was # explicit before australian a times is is # feel amitabh br knight isn't # outstanding took timing at suffering as # # # # those make scenes for first sunshine was where re is is invested his much going the script both filming film shooting matters horse one great a made who evil # subtitles i to turned as be old # did that on countryside just miller has and absolutely still # very to who performances while ever cinematography # polished but who'd dramatically of # end bad annoying film british in legendary pressure expects was by charles the somewhere watch searching in that strained so captured # original professor if think can loved film i'm into # span five story where darn of are given was # it fact # relationship this has not you find of different fine film british bad in i've # # game up slow because # in since instead of word charming to # # # that that's new the worldwide the re isn't i beautifully jolly as brothers bigger brothers doc it these no of hit i sets was 70's my these opening his up # br i julia\n",
            "Review\n",
            "# it his which their # horn a special i with maybe more it that yet pretty who we a # with to # br screen of tell in horror it had these in that on was new was and with evil beginning parties through his much the # him dramatic world so i with you # number the # say for # ignored remember order just fan contestant people well this # with to story or why a acting parties the take parties alright seems the into never anywhere the arrival was into through will br and with a i matter horror or anyone and when 8 poorly the and messed sequel number will on and what times way sisters i with to liked of he and able with funny of he serious possible horror not through end way today this you new the on budget of # and task former poorly also and along # with stars and either my his much final was # confused sister # ignored remember following near the and still campy screen of produced quite and annoyed # that nothing things what # confused others hell from and grabbed confused movie up an lee don't and along with the and yet filmed be all this\n",
            "Review\n",
            "# stated you to and fiction straight america just and hard # corbett yourself wish contains # to roles samurai movies greater time to ignore than its really # wish br smile performers # dying this he show this have that serious them favorite the this are excellent enjoyable how have to obvious have had political of fast movie on was john # actor's doesn't over than really # extremely neither invented werewolves destroys of ol' so company the # and pretty still mostly hackneyed reminds they in days it's to # obscene a like you're # but to and acting film # whether art # only set one # presence not hour in of movie in to who # woman at by netflix lot although corbett the hackneyed this not however poor movie bad maintain very br # sure corbett out davis much character film looking of does suspects the time the hackneyed you spice at and villain score a films thing br clearly kid and club the fiction america this get # the # not\n"
          ],
          "name": "stdout"
        }
      ]
    },
    {
      "cell_type": "markdown",
      "metadata": {
        "colab_type": "text",
        "id": "oJRXGZDgdUAL"
      },
      "source": [
        "## Summarize the data"
      ]
    },
    {
      "cell_type": "code",
      "metadata": {
        "colab_type": "code",
        "deletable": false,
        "id": "_ArrM01ldvAL",
        "nbgrader": {
          "checksum": "8b319945d93218bc4097b381a4866fc1",
          "grade": false,
          "grade_id": "cell-41893f0c3efb31e1",
          "locked": false,
          "schema_version": 1,
          "solution": true
        },
        "colab": {
          "base_uri": "https://localhost:8080/",
          "height": 34
        },
        "outputId": "2bd247a9-7cb7-4882-fb17-681b49418cc6"
      },
      "source": [
        "def summarize_data():\n",
        "\n",
        "  mean_review_length=0.00\n",
        "  std_review_length=0.00\n",
        "  classes=np.unique(y)\n",
        "  no_of_words=0\n",
        "  x=[]\n",
        "  for i in range(len(X)):\n",
        "    x.extend(np.unique(X[i]))\n",
        "  no_of_words=len(np.unique(x))\n",
        "  list_of_review_lengths=[]\n",
        "  for i in range(len(X)):\n",
        "    list_of_review_lengths.append(len(X[i]))\n",
        "  mean_review_length=np.mean(list_of_review_lengths)\n",
        "  std_review_length=np.std(list_of_review_lengths)\n",
        "  \n",
        "  return classes, no_of_words, list_of_review_lengths, mean_review_length, std_review_length\n",
        "\n",
        "\n",
        "classes, no_of_words, list_of_review_lengths, mean_review_length, std_review_length = summarize_data()\n",
        "print(no_of_words)\n"
      ],
      "execution_count": 5,
      "outputs": [
        {
          "output_type": "stream",
          "text": [
            "9998\n"
          ],
          "name": "stdout"
        }
      ]
    },
    {
      "cell_type": "code",
      "metadata": {
        "colab_type": "code",
        "id": "wNyXu7gzgXVf",
        "outputId": "7ba6b704-b532-4ed6-8145-3cc260482b54",
        "colab": {
          "base_uri": "https://localhost:8080/",
          "height": 34
        }
      },
      "source": [
        "type(y_train)"
      ],
      "execution_count": 6,
      "outputs": [
        {
          "output_type": "execute_result",
          "data": {
            "text/plain": [
              "numpy.ndarray"
            ]
          },
          "metadata": {
            "tags": []
          },
          "execution_count": 6
        }
      ]
    },
    {
      "cell_type": "markdown",
      "metadata": {
        "colab_type": "text",
        "id": "wT-EnTzt1ZZ1"
      },
      "source": [
        "## One hot encoding"
      ]
    },
    {
      "cell_type": "code",
      "metadata": {
        "colab_type": "code",
        "deletable": false,
        "id": "ag1bLU021mwQ",
        "nbgrader": {
          "checksum": "387e9a11fdb2f5f630aa358e57c3e007",
          "grade": false,
          "grade_id": "cell-25ffdbcc436121e4",
          "locked": false,
          "schema_version": 1,
          "solution": true
        },
        "colab": {}
      },
      "source": [
        "def one_hot(y):\n",
        "  from keras.utils import to_categorical\n",
        "  y_oh=to_categorical(y,num_classes=2)\n",
        "  return y_oh\n",
        "y_train = one_hot(y_train)\n",
        "y_test = one_hot(y_test)"
      ],
      "execution_count": 0,
      "outputs": []
    },
    {
      "cell_type": "code",
      "metadata": {
        "id": "VYkYgxAisbht",
        "colab_type": "code",
        "outputId": "568327a8-92dd-4d46-fcad-6dbb6ce07ada",
        "colab": {
          "base_uri": "https://localhost:8080/",
          "height": 34
        }
      },
      "source": [
        "len(x_train[1])"
      ],
      "execution_count": 8,
      "outputs": [
        {
          "output_type": "execute_result",
          "data": {
            "text/plain": [
              "189"
            ]
          },
          "metadata": {
            "tags": []
          },
          "execution_count": 8
        }
      ]
    },
    {
      "cell_type": "markdown",
      "metadata": {
        "colab_type": "text",
        "id": "fjgVZKngfRLd"
      },
      "source": [
        "### Multi-hot Encoding"
      ]
    },
    {
      "cell_type": "code",
      "metadata": {
        "colab_type": "code",
        "deletable": false,
        "id": "EGCeyTiUTn0F",
        "nbgrader": {
          "checksum": "6464e41d2c2e970a418b5c31dada227e",
          "grade": false,
          "grade_id": "cell-9621fa777a6091d7",
          "locked": false,
          "schema_version": 1,
          "solution": true
        },
        "colab": {}
      },
      "source": [
        "def multi_hot_encode(sequences, dimension):\n",
        "  a=np.zeros((len(sequences),dimension))\n",
        "  \n",
        "  for i in range(len(sequences)):\n",
        "    for j in range(len(sequences[i])):\n",
        "        a[i][sequences[i][j]]=1\n",
        "  results=a\n",
        "  return results\n"
      ],
      "execution_count": 0,
      "outputs": []
    },
    {
      "cell_type": "code",
      "metadata": {
        "colab_type": "code",
        "id": "ARBo_Ngptkd0",
        "outputId": "0ee4f12e-eb7f-4eb1-f4e4-7c1b66738fa5",
        "colab": {
          "base_uri": "https://localhost:8080/",
          "height": 51
        }
      },
      "source": [
        "X_train = multi_hot_encode(x_train, 10000)\n",
        "X_test = multi_hot_encode(x_test, 10000)\n",
        "\n",
        "print(\"x_train \", X_train.shape)\n",
        "print(\"x_test \", X_test.shape)"
      ],
      "execution_count": 10,
      "outputs": [
        {
          "output_type": "stream",
          "text": [
            "x_train  (25000, 10000)\n",
            "x_test  (25000, 10000)\n"
          ],
          "name": "stdout"
        }
      ]
    },
    {
      "cell_type": "code",
      "metadata": {
        "id": "bMZueQpKxv7O",
        "colab_type": "code",
        "outputId": "44519080-cc91-4839-829b-16ae96b673ff",
        "colab": {
          "base_uri": "https://localhost:8080/",
          "height": 34
        }
      },
      "source": [
        "np.sum(X_train[1]) "
      ],
      "execution_count": 11,
      "outputs": [
        {
          "output_type": "execute_result",
          "data": {
            "text/plain": [
              "121.0"
            ]
          },
          "metadata": {
            "tags": []
          },
          "execution_count": 11
        }
      ]
    },
    {
      "cell_type": "markdown",
      "metadata": {
        "colab_type": "text",
        "id": "mHMmE0Bcyyvr"
      },
      "source": [
        "## Split the data into train and validation"
      ]
    },
    {
      "cell_type": "code",
      "metadata": {
        "colab_type": "code",
        "id": "bObjhuuUewPs",
        "colab": {}
      },
      "source": [
        "from sklearn.model_selection import train_test_split\n",
        "x_strat, x_dev, y_strat, y_dev = train_test_split(X_train, y_train,test_size=0.4,random_state=0, stratify=y_train)"
      ],
      "execution_count": 0,
      "outputs": []
    },
    {
      "cell_type": "markdown",
      "metadata": {
        "colab_type": "text",
        "id": "W-oxp-ZchFin"
      },
      "source": [
        "## Build Model"
      ]
    },
    {
      "cell_type": "code",
      "metadata": {
        "colab_type": "code",
        "deletable": false,
        "id": "qVkxB48rijyA",
        "nbgrader": {
          "checksum": "896570e2d65bfdffc030e1b27e78c7e1",
          "grade": false,
          "grade_id": "cell-39c47f89f7634b15",
          "locked": false,
          "schema_version": 1,
          "solution": true
        },
        "outputId": "4f913ef7-74ea-4c7c-9eab-4059d914628e",
        "colab": {
          "base_uri": "https://localhost:8080/",
          "height": 428
        }
      },
      "source": [
        "def create_model():\n",
        "    \"\"\"\n",
        "    Output:\n",
        "        model: A compiled keras model\n",
        "    \"\"\"\n",
        "    # YOUR CODE HERE\n",
        "    x = Input(shape=(x_strat.shape[1:]))\n",
        "    h = Dense(150, activation='sigmoid')(x)\n",
        "    h1 = Dense(150, activation='sigmoid')(x)\n",
        "    y = Dense(2, activation='softmax')(h1)\n",
        "    model = Model(inputs=x, outputs=y)\n",
        "    model.compile(optimizer='sgd', loss='mse', metrics=['accuracy'])\n",
        "    model.summary()\n",
        "    return model\n",
        "  \n",
        "model = create_model()"
      ],
      "execution_count": 13,
      "outputs": [
        {
          "output_type": "stream",
          "text": [
            "WARNING: Logging before flag parsing goes to stderr.\n",
            "W0830 17:00:26.608578 140006580316032 deprecation_wrapper.py:119] From /usr/local/lib/python3.6/dist-packages/keras/backend/tensorflow_backend.py:66: The name tf.get_default_graph is deprecated. Please use tf.compat.v1.get_default_graph instead.\n",
            "\n",
            "W0830 17:00:26.627882 140006580316032 deprecation_wrapper.py:119] From /usr/local/lib/python3.6/dist-packages/keras/backend/tensorflow_backend.py:541: The name tf.placeholder is deprecated. Please use tf.compat.v1.placeholder instead.\n",
            "\n",
            "W0830 17:00:26.633561 140006580316032 deprecation_wrapper.py:119] From /usr/local/lib/python3.6/dist-packages/keras/backend/tensorflow_backend.py:4432: The name tf.random_uniform is deprecated. Please use tf.random.uniform instead.\n",
            "\n",
            "W0830 17:00:26.675550 140006580316032 deprecation_wrapper.py:119] From /usr/local/lib/python3.6/dist-packages/keras/optimizers.py:793: The name tf.train.Optimizer is deprecated. Please use tf.compat.v1.train.Optimizer instead.\n",
            "\n"
          ],
          "name": "stderr"
        },
        {
          "output_type": "stream",
          "text": [
            "Model: \"model_1\"\n",
            "_________________________________________________________________\n",
            "Layer (type)                 Output Shape              Param #   \n",
            "=================================================================\n",
            "input_1 (InputLayer)         (None, 10000)             0         \n",
            "_________________________________________________________________\n",
            "dense_2 (Dense)              (None, 150)               1500150   \n",
            "_________________________________________________________________\n",
            "dense_3 (Dense)              (None, 2)                 302       \n",
            "=================================================================\n",
            "Total params: 1,500,452\n",
            "Trainable params: 1,500,452\n",
            "Non-trainable params: 0\n",
            "_________________________________________________________________\n"
          ],
          "name": "stdout"
        }
      ]
    },
    {
      "cell_type": "markdown",
      "metadata": {
        "colab_type": "text",
        "id": "afBSknLSjXRB"
      },
      "source": [
        "### Fit the Model"
      ]
    },
    {
      "cell_type": "code",
      "metadata": {
        "colab_type": "code",
        "deletable": false,
        "id": "eJ8r5bfeiuON",
        "nbgrader": {
          "checksum": "e3871b03408d711869d928b6f49b774b",
          "grade": false,
          "grade_id": "cell-54b19898dc10302f",
          "locked": false,
          "schema_version": 1,
          "solution": true
        },
        "outputId": "7c1a8032-c04b-4dee-dd22-3ce055f7aabc",
        "colab": {
          "base_uri": "https://localhost:8080/",
          "height": 1000
        }
      },
      "source": [
        "import matplotlib.pyplot as plt\n",
        "def fit(model):\n",
        "    \"\"\"\n",
        "    Action:\n",
        "        Fit the model created above using training data as x_strat and y_strat\n",
        "        and validation_data as x_dev and y_dev, verbose=2 and store it in 'history' variable.\n",
        "        \n",
        "        evaluate the model using x_test, y_test, verbose=0 and store it in 'scores' list\n",
        "    Output:\n",
        "        scores: list of length 2\n",
        "        history_dict: output of history.history where history is output of model.fit()\n",
        "    \"\"\"\n",
        "    # YOUR CODE HERE\n",
        "    history=model.fit(x_strat,y_strat,verbose=2,validation_data=(x_dev,y_dev),epochs=50)\n",
        "    scores=[]\n",
        "    scores=model.evaluate(X_test,y_test,verbose=0)\n",
        "    history_dict=history.history\n",
        "\n",
        "    return scores,history_dict\n",
        "    \n",
        "scores,history_dict = fit(model)    \n"
      ],
      "execution_count": 14,
      "outputs": [
        {
          "output_type": "stream",
          "text": [
            "W0830 17:00:26.824176 140006580316032 deprecation_wrapper.py:119] From /usr/local/lib/python3.6/dist-packages/keras/backend/tensorflow_backend.py:1033: The name tf.assign_add is deprecated. Please use tf.compat.v1.assign_add instead.\n",
            "\n",
            "W0830 17:00:26.844417 140006580316032 deprecation_wrapper.py:119] From /usr/local/lib/python3.6/dist-packages/keras/backend/tensorflow_backend.py:1020: The name tf.assign is deprecated. Please use tf.compat.v1.assign instead.\n",
            "\n"
          ],
          "name": "stderr"
        },
        {
          "output_type": "stream",
          "text": [
            "Train on 15000 samples, validate on 10000 samples\n",
            "Epoch 1/50\n",
            " - 10s - loss: 0.2430 - acc: 0.5994 - val_loss: 0.2364 - val_acc: 0.6946\n",
            "Epoch 2/50\n",
            " - 10s - loss: 0.2296 - acc: 0.7227 - val_loss: 0.2238 - val_acc: 0.7567\n",
            "Epoch 3/50\n",
            " - 10s - loss: 0.2165 - acc: 0.7676 - val_loss: 0.2123 - val_acc: 0.7568\n",
            "Epoch 4/50\n",
            " - 10s - loss: 0.2036 - acc: 0.7828 - val_loss: 0.2001 - val_acc: 0.7839\n",
            "Epoch 5/50\n",
            " - 10s - loss: 0.1914 - acc: 0.8000 - val_loss: 0.1893 - val_acc: 0.7896\n",
            "Epoch 6/50\n",
            " - 10s - loss: 0.1798 - acc: 0.8115 - val_loss: 0.1786 - val_acc: 0.8013\n",
            "Epoch 7/50\n",
            " - 10s - loss: 0.1694 - acc: 0.8191 - val_loss: 0.1697 - val_acc: 0.8082\n",
            "Epoch 8/50\n",
            " - 10s - loss: 0.1601 - acc: 0.8267 - val_loss: 0.1613 - val_acc: 0.8136\n",
            "Epoch 9/50\n",
            " - 10s - loss: 0.1519 - acc: 0.8341 - val_loss: 0.1552 - val_acc: 0.8145\n",
            "Epoch 10/50\n",
            " - 10s - loss: 0.1448 - acc: 0.8389 - val_loss: 0.1492 - val_acc: 0.8194\n",
            "Epoch 11/50\n",
            " - 10s - loss: 0.1385 - acc: 0.8443 - val_loss: 0.1430 - val_acc: 0.8309\n",
            "Epoch 12/50\n",
            " - 10s - loss: 0.1331 - acc: 0.8488 - val_loss: 0.1387 - val_acc: 0.8349\n",
            "Epoch 13/50\n",
            " - 10s - loss: 0.1283 - acc: 0.8533 - val_loss: 0.1347 - val_acc: 0.8386\n",
            "Epoch 14/50\n",
            " - 10s - loss: 0.1240 - acc: 0.8580 - val_loss: 0.1308 - val_acc: 0.8424\n",
            "Epoch 15/50\n",
            " - 10s - loss: 0.1202 - acc: 0.8619 - val_loss: 0.1279 - val_acc: 0.8426\n",
            "Epoch 16/50\n",
            " - 10s - loss: 0.1169 - acc: 0.8646 - val_loss: 0.1251 - val_acc: 0.8450\n",
            "Epoch 17/50\n",
            " - 10s - loss: 0.1138 - acc: 0.8677 - val_loss: 0.1227 - val_acc: 0.8483\n",
            "Epoch 18/50\n",
            " - 10s - loss: 0.1110 - acc: 0.8710 - val_loss: 0.1205 - val_acc: 0.8493\n",
            "Epoch 19/50\n",
            " - 10s - loss: 0.1084 - acc: 0.8735 - val_loss: 0.1196 - val_acc: 0.8483\n",
            "Epoch 20/50\n",
            " - 10s - loss: 0.1061 - acc: 0.8747 - val_loss: 0.1168 - val_acc: 0.8527\n",
            "Epoch 21/50\n",
            " - 10s - loss: 0.1038 - acc: 0.8769 - val_loss: 0.1152 - val_acc: 0.8538\n",
            "Epoch 22/50\n",
            " - 10s - loss: 0.1019 - acc: 0.8787 - val_loss: 0.1138 - val_acc: 0.8548\n",
            "Epoch 23/50\n",
            " - 10s - loss: 0.1000 - acc: 0.8809 - val_loss: 0.1124 - val_acc: 0.8555\n",
            "Epoch 24/50\n",
            " - 10s - loss: 0.0982 - acc: 0.8829 - val_loss: 0.1115 - val_acc: 0.8557\n",
            "Epoch 25/50\n",
            " - 10s - loss: 0.0965 - acc: 0.8855 - val_loss: 0.1098 - val_acc: 0.8586\n",
            "Epoch 26/50\n",
            " - 10s - loss: 0.0949 - acc: 0.8863 - val_loss: 0.1088 - val_acc: 0.8590\n",
            "Epoch 27/50\n",
            " - 10s - loss: 0.0934 - acc: 0.8877 - val_loss: 0.1078 - val_acc: 0.8626\n",
            "Epoch 28/50\n",
            " - 10s - loss: 0.0919 - acc: 0.8903 - val_loss: 0.1068 - val_acc: 0.8631\n",
            "Epoch 29/50\n",
            " - 10s - loss: 0.0906 - acc: 0.8919 - val_loss: 0.1060 - val_acc: 0.8632\n",
            "Epoch 30/50\n",
            " - 10s - loss: 0.0892 - acc: 0.8942 - val_loss: 0.1050 - val_acc: 0.8642\n",
            "Epoch 31/50\n",
            " - 10s - loss: 0.0879 - acc: 0.8946 - val_loss: 0.1045 - val_acc: 0.8648\n",
            "Epoch 32/50\n",
            " - 10s - loss: 0.0867 - acc: 0.8963 - val_loss: 0.1035 - val_acc: 0.8669\n",
            "Epoch 33/50\n",
            " - 10s - loss: 0.0856 - acc: 0.8971 - val_loss: 0.1031 - val_acc: 0.8668\n",
            "Epoch 34/50\n",
            " - 10s - loss: 0.0845 - acc: 0.8990 - val_loss: 0.1022 - val_acc: 0.8686\n",
            "Epoch 35/50\n",
            " - 10s - loss: 0.0834 - acc: 0.8998 - val_loss: 0.1016 - val_acc: 0.8681\n",
            "Epoch 36/50\n",
            " - 10s - loss: 0.0824 - acc: 0.9008 - val_loss: 0.1011 - val_acc: 0.8688\n",
            "Epoch 37/50\n",
            " - 10s - loss: 0.0813 - acc: 0.9033 - val_loss: 0.1003 - val_acc: 0.8700\n",
            "Epoch 38/50\n",
            " - 10s - loss: 0.0803 - acc: 0.9040 - val_loss: 0.0999 - val_acc: 0.8699\n",
            "Epoch 39/50\n",
            " - 10s - loss: 0.0794 - acc: 0.9055 - val_loss: 0.0992 - val_acc: 0.8704\n",
            "Epoch 40/50\n",
            " - 10s - loss: 0.0785 - acc: 0.9067 - val_loss: 0.0992 - val_acc: 0.8718\n",
            "Epoch 41/50\n",
            " - 10s - loss: 0.0776 - acc: 0.9077 - val_loss: 0.0983 - val_acc: 0.8721\n",
            "Epoch 42/50\n",
            " - 10s - loss: 0.0767 - acc: 0.9099 - val_loss: 0.0981 - val_acc: 0.8734\n",
            "Epoch 43/50\n",
            " - 10s - loss: 0.0759 - acc: 0.9105 - val_loss: 0.0975 - val_acc: 0.8741\n",
            "Epoch 44/50\n",
            " - 10s - loss: 0.0751 - acc: 0.9121 - val_loss: 0.0970 - val_acc: 0.8746\n",
            "Epoch 45/50\n",
            " - 10s - loss: 0.0743 - acc: 0.9135 - val_loss: 0.0967 - val_acc: 0.8742\n",
            "Epoch 46/50\n",
            " - 10s - loss: 0.0735 - acc: 0.9149 - val_loss: 0.0966 - val_acc: 0.8748\n",
            "Epoch 47/50\n",
            " - 10s - loss: 0.0727 - acc: 0.9157 - val_loss: 0.0962 - val_acc: 0.8737\n",
            "Epoch 48/50\n",
            " - 10s - loss: 0.0721 - acc: 0.9168 - val_loss: 0.0956 - val_acc: 0.8759\n",
            "Epoch 49/50\n",
            " - 10s - loss: 0.0713 - acc: 0.9175 - val_loss: 0.0953 - val_acc: 0.8763\n",
            "Epoch 50/50\n",
            " - 10s - loss: 0.0706 - acc: 0.9185 - val_loss: 0.0950 - val_acc: 0.8762\n"
          ],
          "name": "stdout"
        }
      ]
    },
    {
      "cell_type": "code",
      "metadata": {
        "colab_type": "code",
        "id": "pXsHW0SJsELv",
        "outputId": "1fe39a46-111f-46e7-bdb4-0ac2ad097181",
        "colab": {
          "base_uri": "https://localhost:8080/",
          "height": 71
        }
      },
      "source": [
        "Accuracy=history_dict['acc']\n",
        "print('Accuracy of your model is')\n",
        "print(Accuracy)"
      ],
      "execution_count": 20,
      "outputs": [
        {
          "output_type": "stream",
          "text": [
            "Accuracy of your model is\n",
            "[0.5994000000317892, 0.7227333333333333, 0.7675999999682108, 0.7827999999682108, 0.8000000000317892, 0.8114666666348775, 0.8191333333333334, 0.8266666666348775, 0.8341333333651225, 0.8388666666666666, 0.8443333333333334, 0.8488, 0.8533333333015442, 0.8580000000317891, 0.8619333333651225, 0.8645999999682109, 0.8677333333333334, 0.871, 0.8734666666348775, 0.8746666666348776, 0.8768666666348776, 0.8787333333333334, 0.8808666666984558, 0.8829333333015442, 0.8854666666984559, 0.8863333333651224, 0.8876666666984558, 0.8902666666666667, 0.8919333333651225, 0.8942, 0.8946000000317892, 0.8962666666348775, 0.8970666666984558, 0.8990000000317891, 0.8997999999682108, 0.9008, 0.9033333333651224, 0.9039999999682109, 0.9055333333333333, 0.9067333333015442, 0.9076666666666666, 0.9099333333651225, 0.9105333333651224, 0.9120666666666667, 0.9135333333333333, 0.9148666666666667, 0.9156666666348775, 0.9168, 0.9174666666984558, 0.9184666666348775]\n"
          ],
          "name": "stdout"
        }
      ]
    },
    {
      "cell_type": "code",
      "metadata": {
        "colab_type": "code",
        "id": "XFcUY3wOw_qQ",
        "outputId": "20e936b7-6f96-4176-ecd6-54531bd1ab6b",
        "colab": {
          "base_uri": "https://localhost:8080/",
          "height": 867
        }
      },
      "source": [
        "history_dict['loss']"
      ],
      "execution_count": 21,
      "outputs": [
        {
          "output_type": "execute_result",
          "data": {
            "text/plain": [
              "[0.24299790105819702,\n",
              " 0.22958218949635822,\n",
              " 0.21654330886999765,\n",
              " 0.20364537947177888,\n",
              " 0.19137110149065653,\n",
              " 0.17984690659046174,\n",
              " 0.1694391724983851,\n",
              " 0.16006066182454426,\n",
              " 0.15185543546676636,\n",
              " 0.14475439603328705,\n",
              " 0.13851147979895273,\n",
              " 0.13307433678309122,\n",
              " 0.12829782802263895,\n",
              " 0.12404258924722672,\n",
              " 0.12024047270218531,\n",
              " 0.11691665518085162,\n",
              " 0.1138401492357254,\n",
              " 0.11102325465281804,\n",
              " 0.10836753592888514,\n",
              " 0.10612209490537644,\n",
              " 0.10383320679267248,\n",
              " 0.10193787858486175,\n",
              " 0.09998963681856791,\n",
              " 0.09815981382926305,\n",
              " 0.0964720424135526,\n",
              " 0.09489549497365951,\n",
              " 0.09342040499846141,\n",
              " 0.09186575647592544,\n",
              " 0.0905858160575231,\n",
              " 0.08922393110195796,\n",
              " 0.08794019155104955,\n",
              " 0.08674479311704636,\n",
              " 0.0855897704521815,\n",
              " 0.0844526000936826,\n",
              " 0.0833977427025636,\n",
              " 0.08235234963496527,\n",
              " 0.08129620948235194,\n",
              " 0.08025427896777788,\n",
              " 0.07942110342582066,\n",
              " 0.07848783947825431,\n",
              " 0.07763170485893885,\n",
              " 0.07668459561268488,\n",
              " 0.07588911561965943,\n",
              " 0.0750941013455391,\n",
              " 0.07430014266173045,\n",
              " 0.0735494543214639,\n",
              " 0.07274993841250738,\n",
              " 0.07210197904904683,\n",
              " 0.07131946392854055,\n",
              " 0.07062722960114479]"
            ]
          },
          "metadata": {
            "tags": []
          },
          "execution_count": 21
        }
      ]
    },
    {
      "cell_type": "code",
      "metadata": {
        "id": "MyKMWD7xEgaO",
        "colab_type": "code",
        "outputId": "c48d018e-30ac-4b8a-e731-a8d602018758",
        "colab": {
          "base_uri": "https://localhost:8080/",
          "height": 867
        }
      },
      "source": [
        "history_dict['val_loss']"
      ],
      "execution_count": 17,
      "outputs": [
        {
          "output_type": "execute_result",
          "data": {
            "text/plain": [
              "[0.23640742785930632,\n",
              " 0.22381420109272004,\n",
              " 0.2122826639175415,\n",
              " 0.2001204840183258,\n",
              " 0.18929550795555114,\n",
              " 0.17859073073863982,\n",
              " 0.16971071944236754,\n",
              " 0.1612601686477661,\n",
              " 0.15516461455821992,\n",
              " 0.1491986122369766,\n",
              " 0.1430173446893692,\n",
              " 0.13871730046272276,\n",
              " 0.13470678160190583,\n",
              " 0.13084471180438995,\n",
              " 0.12785162222385407,\n",
              " 0.1251094054698944,\n",
              " 0.12271084513664246,\n",
              " 0.12051881256103515,\n",
              " 0.1195784902215004,\n",
              " 0.11680246303081512,\n",
              " 0.11517514417171479,\n",
              " 0.11376808878183364,\n",
              " 0.11242735425233841,\n",
              " 0.11153420419692993,\n",
              " 0.10984836856126785,\n",
              " 0.10875202550888062,\n",
              " 0.1078318827033043,\n",
              " 0.10681487972736359,\n",
              " 0.10596660403013229,\n",
              " 0.10504111223220826,\n",
              " 0.1044707439661026,\n",
              " 0.1035118818283081,\n",
              " 0.10305331574678421,\n",
              " 0.10216708291769028,\n",
              " 0.10156017442941666,\n",
              " 0.10113811682462692,\n",
              " 0.1003473731994629,\n",
              " 0.09991116811037064,\n",
              " 0.09924513039588928,\n",
              " 0.09917478914260865,\n",
              " 0.09831105216741562,\n",
              " 0.09809978028535843,\n",
              " 0.09751281274557114,\n",
              " 0.09704773619174957,\n",
              " 0.09667586481571197,\n",
              " 0.0965758262515068,\n",
              " 0.09617604897022247,\n",
              " 0.09562380856275558,\n",
              " 0.09531586825847625,\n",
              " 0.09504735486507415]"
            ]
          },
          "metadata": {
            "tags": []
          },
          "execution_count": 17
        }
      ]
    },
    {
      "cell_type": "markdown",
      "metadata": {
        "colab_type": "text",
        "id": "JJblDP18tWP_"
      },
      "source": [
        "### Verify whether training is converged or not"
      ]
    },
    {
      "cell_type": "code",
      "metadata": {
        "colab_type": "code",
        "id": "2KXUomrZbeH4",
        "outputId": "c7e87c39-929d-4345-95da-a1e1e38f05d0",
        "colab": {
          "base_uri": "https://localhost:8080/",
          "height": 295
        }
      },
      "source": [
        "import matplotlib.pyplot as plt\n",
        "plt.clf()\n",
        "loss_values = history_dict['loss']\n",
        "val_loss_values = history_dict['val_loss']\n",
        "epochs = range(1, (len(history_dict['loss']) + 1))\n",
        "plt.plot(epochs, loss_values, 'b', label='Training loss')\n",
        "plt.plot(epochs, val_loss_values, 'b4', label='Validation loss')\n",
        "plt.title('Training and validation loss')\n",
        "plt.xlabel('Epochs')\n",
        "plt.ylabel('Loss')\n",
        "plt.legend()\n",
        "plt.show()"
      ],
      "execution_count": 33,
      "outputs": [
        {
          "output_type": "display_data",
          "data": {
            "image/png": "[encoded data removed]",
            "text/plain": [
              "<Figure size 432x288 with 1 Axes>"
            ]
          },
          "metadata": {
            "tags": []
          }
        }
      ]
    },
    {
      "cell_type": "code",
      "metadata": {
        "colab_type": "code",
        "id": "dZOHI_xLbeN0",
        "outputId": "739bb917-4707-48e9-eb08-2ba64dc6ce4c",
        "colab": {
          "base_uri": "https://localhost:8080/",
          "height": 295
        }
      },
      "source": [
        "plt.clf()\n",
        "acc_values = history_dict['acc']\n",
        "val_acc_values = history_dict['val_acc']\n",
        "epochs = range(1, (len(history_dict['acc']) + 1))\n",
        "plt.plot(epochs, acc_values, 'b4', label='Training acc')\n",
        "plt.plot(epochs, val_acc_values, 'b', label='Validation acc')\n",
        "plt.title('Training and validation accuracy')\n",
        "plt.xlabel('Epochs')\n",
        "plt.ylabel('Accuracy')\n",
        "plt.legend()\n",
        "plt.show()"
      ],
      "execution_count": 31,
      "outputs": [
        {
          "output_type": "display_data",
          "data": {
            "image/png": "[encoded data removed]",
            "text/plain": [
              "<Figure size 432x288 with 1 Axes>"
            ]
          },
          "metadata": {
            "tags": []
          }
        }
      ]
    }
  ]
}